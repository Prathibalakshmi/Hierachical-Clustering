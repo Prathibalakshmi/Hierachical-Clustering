{
 "cells": [
  {
   "cell_type": "markdown",
   "metadata": {},
   "source": [
    "# <center> Hierarchical K-Means: Construction of Hashing Tree <center>"
   ]
  },
  {
   "cell_type": "markdown",
   "metadata": {},
   "source": [
    "Hierarchical clustering is the hierarchical decomposition of the data based on group \n",
    "similarities. It allows us to build tree structures from data similarities and see how different subclusters relate to each other, and how far apart data points are. It gives us a tree-type structure \n",
    "based on the hierarchical series of nested clusters. A diagram called Dendrogram graphically \n",
    "represents this hierarchy and is an inverted tree that describes the order in which factors are \n",
    "merged, or clusters are broken apart"
   ]
  },
  {
   "cell_type": "markdown",
   "metadata": {},
   "source": [
    "### Question:\n",
    "Perform Hierarchical Clustering from scratch and also using sklearn to perform wholesale \n",
    "customer segmentation based on their annual spending on products. You can use this dataset. \n",
    "Use the threshold to\n",
    "1. Divide the dataset into two clusters. \n",
    "2. To divide the dataset into k clusters, such that the distance between the two clusters is greater\n",
    "than a given threshold (this threshold can be anything passed to the function).\n",
    "Dataset Link: Wholesale customers data\n",
    "https://archive.ics.uci.edu/ml/machine-learning\u0002databases/00292/Wholesale%20customers%20data.cs"
   ]
  },
  {
   "cell_type": "markdown",
   "metadata": {},
   "source": [
    "### Steps:\n",
    "- Importing the libraries\n",
    "- Load the dataset\n",
    "- Drop the 'Channel' and 'Region' columns\n",
    "- Standadizing the data\n",
    "- Hierarchical Clustering from Scratch\n",
    "- Sklearn Hierarchical Clustering\n",
    "- Plot the results\n"
   ]
  },
  {
   "cell_type": "markdown",
   "metadata": {},
   "source": [
    "### Importing the libraries"
   ]
  },
  {
   "cell_type": "code",
   "execution_count": 21,
   "metadata": {
    "execution": {
     "iopub.execute_input": "2023-08-23T04:45:29.609995Z",
     "iopub.status.busy": "2023-08-23T04:45:29.609609Z",
     "iopub.status.idle": "2023-08-23T04:45:29.615776Z",
     "shell.execute_reply": "2023-08-23T04:45:29.614793Z",
     "shell.execute_reply.started": "2023-08-23T04:45:29.609953Z"
    }
   },
   "outputs": [],
   "source": [
    "import numpy as np\n",
    "import pandas as pd\n",
    "from sklearn.preprocessing import StandardScaler\n",
    "from sklearn.cluster import AgglomerativeClustering\n",
    "import matplotlib.pyplot as plt\n",
    "import seaborn as sns\n",
    "from scipy.cluster.hierarchy import linkage,dendrogram\n"
   ]
  },
  {
   "cell_type": "markdown",
   "metadata": {},
   "source": [
    "### Load the Dataset"
   ]
  },
  {
   "cell_type": "code",
   "execution_count": 22,
   "metadata": {
    "execution": {
     "iopub.execute_input": "2023-08-23T04:45:31.487279Z",
     "iopub.status.busy": "2023-08-23T04:45:31.486606Z",
     "iopub.status.idle": "2023-08-23T04:45:32.037660Z",
     "shell.execute_reply": "2023-08-23T04:45:32.036644Z",
     "shell.execute_reply.started": "2023-08-23T04:45:31.487244Z"
    }
   },
   "outputs": [],
   "source": [
    "url=\"https://archive.ics.uci.edu/ml/machine-learning-databases/00292/Wholesale%20customers%20data.csv\"\n",
    "data=pd.read_csv(url)"
   ]
  },
  {
   "cell_type": "code",
   "execution_count": 23,
   "metadata": {
    "execution": {
     "iopub.execute_input": "2023-08-23T04:45:32.833761Z",
     "iopub.status.busy": "2023-08-23T04:45:32.833381Z",
     "iopub.status.idle": "2023-08-23T04:45:32.847179Z",
     "shell.execute_reply": "2023-08-23T04:45:32.845961Z",
     "shell.execute_reply.started": "2023-08-23T04:45:32.833730Z"
    }
   },
   "outputs": [
    {
     "data": {
      "text/html": [
       "<div>\n",
       "<style scoped>\n",
       "    .dataframe tbody tr th:only-of-type {\n",
       "        vertical-align: middle;\n",
       "    }\n",
       "\n",
       "    .dataframe tbody tr th {\n",
       "        vertical-align: top;\n",
       "    }\n",
       "\n",
       "    .dataframe thead th {\n",
       "        text-align: right;\n",
       "    }\n",
       "</style>\n",
       "<table border=\"1\" class=\"dataframe\">\n",
       "  <thead>\n",
       "    <tr style=\"text-align: right;\">\n",
       "      <th></th>\n",
       "      <th>Channel</th>\n",
       "      <th>Region</th>\n",
       "      <th>Fresh</th>\n",
       "      <th>Milk</th>\n",
       "      <th>Grocery</th>\n",
       "      <th>Frozen</th>\n",
       "      <th>Detergents_Paper</th>\n",
       "      <th>Delicassen</th>\n",
       "    </tr>\n",
       "  </thead>\n",
       "  <tbody>\n",
       "    <tr>\n",
       "      <th>0</th>\n",
       "      <td>2</td>\n",
       "      <td>3</td>\n",
       "      <td>12669</td>\n",
       "      <td>9656</td>\n",
       "      <td>7561</td>\n",
       "      <td>214</td>\n",
       "      <td>2674</td>\n",
       "      <td>1338</td>\n",
       "    </tr>\n",
       "    <tr>\n",
       "      <th>1</th>\n",
       "      <td>2</td>\n",
       "      <td>3</td>\n",
       "      <td>7057</td>\n",
       "      <td>9810</td>\n",
       "      <td>9568</td>\n",
       "      <td>1762</td>\n",
       "      <td>3293</td>\n",
       "      <td>1776</td>\n",
       "    </tr>\n",
       "    <tr>\n",
       "      <th>2</th>\n",
       "      <td>2</td>\n",
       "      <td>3</td>\n",
       "      <td>6353</td>\n",
       "      <td>8808</td>\n",
       "      <td>7684</td>\n",
       "      <td>2405</td>\n",
       "      <td>3516</td>\n",
       "      <td>7844</td>\n",
       "    </tr>\n",
       "    <tr>\n",
       "      <th>3</th>\n",
       "      <td>1</td>\n",
       "      <td>3</td>\n",
       "      <td>13265</td>\n",
       "      <td>1196</td>\n",
       "      <td>4221</td>\n",
       "      <td>6404</td>\n",
       "      <td>507</td>\n",
       "      <td>1788</td>\n",
       "    </tr>\n",
       "    <tr>\n",
       "      <th>4</th>\n",
       "      <td>2</td>\n",
       "      <td>3</td>\n",
       "      <td>22615</td>\n",
       "      <td>5410</td>\n",
       "      <td>7198</td>\n",
       "      <td>3915</td>\n",
       "      <td>1777</td>\n",
       "      <td>5185</td>\n",
       "    </tr>\n",
       "  </tbody>\n",
       "</table>\n",
       "</div>"
      ],
      "text/plain": [
       "   Channel  Region  Fresh  Milk  Grocery  Frozen  Detergents_Paper  Delicassen\n",
       "0        2       3  12669  9656     7561     214              2674        1338\n",
       "1        2       3   7057  9810     9568    1762              3293        1776\n",
       "2        2       3   6353  8808     7684    2405              3516        7844\n",
       "3        1       3  13265  1196     4221    6404               507        1788\n",
       "4        2       3  22615  5410     7198    3915              1777        5185"
      ]
     },
     "execution_count": 23,
     "metadata": {},
     "output_type": "execute_result"
    }
   ],
   "source": [
    "data.head()"
   ]
  },
  {
   "cell_type": "markdown",
   "metadata": {},
   "source": [
    "### Data Preprocessing"
   ]
  },
  {
   "cell_type": "code",
   "execution_count": 24,
   "metadata": {
    "execution": {
     "iopub.execute_input": "2023-08-23T04:45:34.022576Z",
     "iopub.status.busy": "2023-08-23T04:45:34.022174Z",
     "iopub.status.idle": "2023-08-23T04:45:34.034406Z",
     "shell.execute_reply": "2023-08-23T04:45:34.032864Z",
     "shell.execute_reply.started": "2023-08-23T04:45:34.022544Z"
    }
   },
   "outputs": [
    {
     "data": {
      "text/plain": [
       "<bound method DataFrame.info of      Channel  Region  Fresh   Milk  Grocery  Frozen  Detergents_Paper  \\\n",
       "0          2       3  12669   9656     7561     214              2674   \n",
       "1          2       3   7057   9810     9568    1762              3293   \n",
       "2          2       3   6353   8808     7684    2405              3516   \n",
       "3          1       3  13265   1196     4221    6404               507   \n",
       "4          2       3  22615   5410     7198    3915              1777   \n",
       "..       ...     ...    ...    ...      ...     ...               ...   \n",
       "435        1       3  29703  12051    16027   13135               182   \n",
       "436        1       3  39228   1431      764    4510                93   \n",
       "437        2       3  14531  15488    30243     437             14841   \n",
       "438        1       3  10290   1981     2232    1038               168   \n",
       "439        1       3   2787   1698     2510      65               477   \n",
       "\n",
       "     Delicassen  \n",
       "0          1338  \n",
       "1          1776  \n",
       "2          7844  \n",
       "3          1788  \n",
       "4          5185  \n",
       "..          ...  \n",
       "435        2204  \n",
       "436        2346  \n",
       "437        1867  \n",
       "438        2125  \n",
       "439          52  \n",
       "\n",
       "[440 rows x 8 columns]>"
      ]
     },
     "execution_count": 24,
     "metadata": {},
     "output_type": "execute_result"
    }
   ],
   "source": [
    "data.info"
   ]
  },
  {
   "cell_type": "code",
   "execution_count": 25,
   "metadata": {
    "execution": {
     "iopub.execute_input": "2023-08-23T04:45:35.202560Z",
     "iopub.status.busy": "2023-08-23T04:45:35.201500Z",
     "iopub.status.idle": "2023-08-23T04:45:35.211924Z",
     "shell.execute_reply": "2023-08-23T04:45:35.210693Z",
     "shell.execute_reply.started": "2023-08-23T04:45:35.202514Z"
    }
   },
   "outputs": [
    {
     "data": {
      "text/plain": [
       "Channel             0\n",
       "Region              0\n",
       "Fresh               0\n",
       "Milk                0\n",
       "Grocery             0\n",
       "Frozen              0\n",
       "Detergents_Paper    0\n",
       "Delicassen          0\n",
       "dtype: int64"
      ]
     },
     "execution_count": 25,
     "metadata": {},
     "output_type": "execute_result"
    }
   ],
   "source": [
    "data.isnull().sum()"
   ]
  },
  {
   "cell_type": "code",
   "execution_count": 26,
   "metadata": {
    "execution": {
     "iopub.execute_input": "2023-08-23T04:45:35.709402Z",
     "iopub.status.busy": "2023-08-23T04:45:35.709049Z",
     "iopub.status.idle": "2023-08-23T04:45:35.746147Z",
     "shell.execute_reply": "2023-08-23T04:45:35.745043Z",
     "shell.execute_reply.started": "2023-08-23T04:45:35.709373Z"
    }
   },
   "outputs": [
    {
     "data": {
      "text/html": [
       "<div>\n",
       "<style scoped>\n",
       "    .dataframe tbody tr th:only-of-type {\n",
       "        vertical-align: middle;\n",
       "    }\n",
       "\n",
       "    .dataframe tbody tr th {\n",
       "        vertical-align: top;\n",
       "    }\n",
       "\n",
       "    .dataframe thead th {\n",
       "        text-align: right;\n",
       "    }\n",
       "</style>\n",
       "<table border=\"1\" class=\"dataframe\">\n",
       "  <thead>\n",
       "    <tr style=\"text-align: right;\">\n",
       "      <th></th>\n",
       "      <th>Channel</th>\n",
       "      <th>Region</th>\n",
       "      <th>Fresh</th>\n",
       "      <th>Milk</th>\n",
       "      <th>Grocery</th>\n",
       "      <th>Frozen</th>\n",
       "      <th>Detergents_Paper</th>\n",
       "      <th>Delicassen</th>\n",
       "    </tr>\n",
       "  </thead>\n",
       "  <tbody>\n",
       "    <tr>\n",
       "      <th>count</th>\n",
       "      <td>440.000000</td>\n",
       "      <td>440.000000</td>\n",
       "      <td>440.000000</td>\n",
       "      <td>440.000000</td>\n",
       "      <td>440.000000</td>\n",
       "      <td>440.000000</td>\n",
       "      <td>440.000000</td>\n",
       "      <td>440.000000</td>\n",
       "    </tr>\n",
       "    <tr>\n",
       "      <th>mean</th>\n",
       "      <td>1.322727</td>\n",
       "      <td>2.543182</td>\n",
       "      <td>12000.297727</td>\n",
       "      <td>5796.265909</td>\n",
       "      <td>7951.277273</td>\n",
       "      <td>3071.931818</td>\n",
       "      <td>2881.493182</td>\n",
       "      <td>1524.870455</td>\n",
       "    </tr>\n",
       "    <tr>\n",
       "      <th>std</th>\n",
       "      <td>0.468052</td>\n",
       "      <td>0.774272</td>\n",
       "      <td>12647.328865</td>\n",
       "      <td>7380.377175</td>\n",
       "      <td>9503.162829</td>\n",
       "      <td>4854.673333</td>\n",
       "      <td>4767.854448</td>\n",
       "      <td>2820.105937</td>\n",
       "    </tr>\n",
       "    <tr>\n",
       "      <th>min</th>\n",
       "      <td>1.000000</td>\n",
       "      <td>1.000000</td>\n",
       "      <td>3.000000</td>\n",
       "      <td>55.000000</td>\n",
       "      <td>3.000000</td>\n",
       "      <td>25.000000</td>\n",
       "      <td>3.000000</td>\n",
       "      <td>3.000000</td>\n",
       "    </tr>\n",
       "    <tr>\n",
       "      <th>25%</th>\n",
       "      <td>1.000000</td>\n",
       "      <td>2.000000</td>\n",
       "      <td>3127.750000</td>\n",
       "      <td>1533.000000</td>\n",
       "      <td>2153.000000</td>\n",
       "      <td>742.250000</td>\n",
       "      <td>256.750000</td>\n",
       "      <td>408.250000</td>\n",
       "    </tr>\n",
       "    <tr>\n",
       "      <th>50%</th>\n",
       "      <td>1.000000</td>\n",
       "      <td>3.000000</td>\n",
       "      <td>8504.000000</td>\n",
       "      <td>3627.000000</td>\n",
       "      <td>4755.500000</td>\n",
       "      <td>1526.000000</td>\n",
       "      <td>816.500000</td>\n",
       "      <td>965.500000</td>\n",
       "    </tr>\n",
       "    <tr>\n",
       "      <th>75%</th>\n",
       "      <td>2.000000</td>\n",
       "      <td>3.000000</td>\n",
       "      <td>16933.750000</td>\n",
       "      <td>7190.250000</td>\n",
       "      <td>10655.750000</td>\n",
       "      <td>3554.250000</td>\n",
       "      <td>3922.000000</td>\n",
       "      <td>1820.250000</td>\n",
       "    </tr>\n",
       "    <tr>\n",
       "      <th>max</th>\n",
       "      <td>2.000000</td>\n",
       "      <td>3.000000</td>\n",
       "      <td>112151.000000</td>\n",
       "      <td>73498.000000</td>\n",
       "      <td>92780.000000</td>\n",
       "      <td>60869.000000</td>\n",
       "      <td>40827.000000</td>\n",
       "      <td>47943.000000</td>\n",
       "    </tr>\n",
       "  </tbody>\n",
       "</table>\n",
       "</div>"
      ],
      "text/plain": [
       "          Channel      Region          Fresh          Milk       Grocery  \\\n",
       "count  440.000000  440.000000     440.000000    440.000000    440.000000   \n",
       "mean     1.322727    2.543182   12000.297727   5796.265909   7951.277273   \n",
       "std      0.468052    0.774272   12647.328865   7380.377175   9503.162829   \n",
       "min      1.000000    1.000000       3.000000     55.000000      3.000000   \n",
       "25%      1.000000    2.000000    3127.750000   1533.000000   2153.000000   \n",
       "50%      1.000000    3.000000    8504.000000   3627.000000   4755.500000   \n",
       "75%      2.000000    3.000000   16933.750000   7190.250000  10655.750000   \n",
       "max      2.000000    3.000000  112151.000000  73498.000000  92780.000000   \n",
       "\n",
       "             Frozen  Detergents_Paper    Delicassen  \n",
       "count    440.000000        440.000000    440.000000  \n",
       "mean    3071.931818       2881.493182   1524.870455  \n",
       "std     4854.673333       4767.854448   2820.105937  \n",
       "min       25.000000          3.000000      3.000000  \n",
       "25%      742.250000        256.750000    408.250000  \n",
       "50%     1526.000000        816.500000    965.500000  \n",
       "75%     3554.250000       3922.000000   1820.250000  \n",
       "max    60869.000000      40827.000000  47943.000000  "
      ]
     },
     "execution_count": 26,
     "metadata": {},
     "output_type": "execute_result"
    }
   ],
   "source": [
    "data.describe()"
   ]
  },
  {
   "cell_type": "code",
   "execution_count": 27,
   "metadata": {
    "execution": {
     "iopub.execute_input": "2023-08-23T04:45:36.236567Z",
     "iopub.status.busy": "2023-08-23T04:45:36.236215Z",
     "iopub.status.idle": "2023-08-23T04:45:36.242516Z",
     "shell.execute_reply": "2023-08-23T04:45:36.241384Z",
     "shell.execute_reply.started": "2023-08-23T04:45:36.236538Z"
    }
   },
   "outputs": [],
   "source": [
    "# Drop the 'Channel' and 'Region' columns as we're focusing on customer spending\n",
    "data.drop(['Channel','Region'],axis=1,inplace=True)"
   ]
  },
  {
   "cell_type": "code",
   "execution_count": 28,
   "metadata": {
    "execution": {
     "iopub.execute_input": "2023-08-23T04:45:37.402689Z",
     "iopub.status.busy": "2023-08-23T04:45:37.402006Z",
     "iopub.status.idle": "2023-08-23T04:45:37.414846Z",
     "shell.execute_reply": "2023-08-23T04:45:37.413623Z",
     "shell.execute_reply.started": "2023-08-23T04:45:37.402656Z"
    }
   },
   "outputs": [
    {
     "data": {
      "text/html": [
       "<div>\n",
       "<style scoped>\n",
       "    .dataframe tbody tr th:only-of-type {\n",
       "        vertical-align: middle;\n",
       "    }\n",
       "\n",
       "    .dataframe tbody tr th {\n",
       "        vertical-align: top;\n",
       "    }\n",
       "\n",
       "    .dataframe thead th {\n",
       "        text-align: right;\n",
       "    }\n",
       "</style>\n",
       "<table border=\"1\" class=\"dataframe\">\n",
       "  <thead>\n",
       "    <tr style=\"text-align: right;\">\n",
       "      <th></th>\n",
       "      <th>Fresh</th>\n",
       "      <th>Milk</th>\n",
       "      <th>Grocery</th>\n",
       "      <th>Frozen</th>\n",
       "      <th>Detergents_Paper</th>\n",
       "      <th>Delicassen</th>\n",
       "    </tr>\n",
       "  </thead>\n",
       "  <tbody>\n",
       "    <tr>\n",
       "      <th>0</th>\n",
       "      <td>12669</td>\n",
       "      <td>9656</td>\n",
       "      <td>7561</td>\n",
       "      <td>214</td>\n",
       "      <td>2674</td>\n",
       "      <td>1338</td>\n",
       "    </tr>\n",
       "    <tr>\n",
       "      <th>1</th>\n",
       "      <td>7057</td>\n",
       "      <td>9810</td>\n",
       "      <td>9568</td>\n",
       "      <td>1762</td>\n",
       "      <td>3293</td>\n",
       "      <td>1776</td>\n",
       "    </tr>\n",
       "    <tr>\n",
       "      <th>2</th>\n",
       "      <td>6353</td>\n",
       "      <td>8808</td>\n",
       "      <td>7684</td>\n",
       "      <td>2405</td>\n",
       "      <td>3516</td>\n",
       "      <td>7844</td>\n",
       "    </tr>\n",
       "    <tr>\n",
       "      <th>3</th>\n",
       "      <td>13265</td>\n",
       "      <td>1196</td>\n",
       "      <td>4221</td>\n",
       "      <td>6404</td>\n",
       "      <td>507</td>\n",
       "      <td>1788</td>\n",
       "    </tr>\n",
       "    <tr>\n",
       "      <th>4</th>\n",
       "      <td>22615</td>\n",
       "      <td>5410</td>\n",
       "      <td>7198</td>\n",
       "      <td>3915</td>\n",
       "      <td>1777</td>\n",
       "      <td>5185</td>\n",
       "    </tr>\n",
       "  </tbody>\n",
       "</table>\n",
       "</div>"
      ],
      "text/plain": [
       "   Fresh  Milk  Grocery  Frozen  Detergents_Paper  Delicassen\n",
       "0  12669  9656     7561     214              2674        1338\n",
       "1   7057  9810     9568    1762              3293        1776\n",
       "2   6353  8808     7684    2405              3516        7844\n",
       "3  13265  1196     4221    6404               507        1788\n",
       "4  22615  5410     7198    3915              1777        5185"
      ]
     },
     "execution_count": 28,
     "metadata": {},
     "output_type": "execute_result"
    }
   ],
   "source": [
    "data.head()"
   ]
  },
  {
   "cell_type": "markdown",
   "metadata": {},
   "source": [
    "### Hierarchical Clustering from the scratch"
   ]
  },
  {
   "cell_type": "code",
   "execution_count": 29,
   "metadata": {
    "execution": {
     "iopub.execute_input": "2023-08-23T04:45:38.713305Z",
     "iopub.status.busy": "2023-08-23T04:45:38.712621Z",
     "iopub.status.idle": "2023-08-23T04:51:49.507797Z",
     "shell.execute_reply": "2023-08-23T04:51:49.506720Z",
     "shell.execute_reply.started": "2023-08-23T04:45:38.713270Z"
    }
   },
   "outputs": [
    {
     "name": "stdout",
     "output_type": "stream",
     "text": [
      "Clusters from scratch: [[0, 5, 281, 138, 243, 180, 373, 177, 18, 127, 30, 20, 300, 226, 279, 421, 41, 140, 294, 25, 423, 434, 323, 424, 33, 311, 142, 54, 241, 324, 232, 422, 149, 255, 380, 402, 89, 276, 210, 332, 234, 267, 3, 278, 99, 398, 397, 130, 229, 249, 222, 261, 88, 143, 337, 50, 64, 292, 383, 223, 270, 390, 329, 414, 263, 257, 72, 76, 252, 339, 68, 179, 6, 84, 19, 60, 297, 408, 8, 55, 51, 167, 295, 363, 117, 139, 147, 260, 419, 178, 256, 185, 21, 326, 400, 186, 148, 169, 316, 219, 344, 364, 367, 227, 250, 350, 348, 31, 386, 121, 291, 69, 199, 366, 133, 246, 374, 286, 405, 80, 308, 224, 134, 146, 135, 192, 194, 168, 361, 206, 369, 238, 375, 34, 362, 439, 97, 98, 154, 131, 203, 299, 355, 327, 352, 275, 184, 79, 290, 151, 391, 433, 274, 280, 378, 320, 271, 95, 317, 174, 204, 233, 392, 359, 235, 428, 11, 394, 116, 318, 15, 104, 132, 225, 27, 58, 336, 191, 288, 122, 247, 220, 269, 105, 150, 307, 26, 115, 385, 90, 389, 395, 78, 388, 399, 236, 119, 313, 110, 113, 198, 321, 330, 314, 161, 212, 438, 429, 410, 32, 432, 144, 248, 75, 118, 237, 404, 83, 387, 368, 360, 262, 356, 114, 217, 120, 162, 152, 157, 242, 296, 322, 228, 1, 244, 82, 396, 7, 415, 74, 59, 298, 417, 44, 221, 48, 16, 175, 158, 197, 341, 160, 106, 340, 420, 214, 302, 166, 365, 35, 412, 66, 96, 345, 102, 213, 342, 172, 208, 207, 62, 164, 136, 187, 123, 108, 137, 272, 128, 231, 153, 379, 9, 101, 215, 63, 107, 37, 426, 111, 268, 42, 188, 53, 182, 81, 159, 170, 264, 418, 57, 293, 416, 94, 189, 305, 10, 346, 376, 100, 156, 245, 430, 173, 353, 303, 193, 357, 38, 309, 315, 2, 218, 17, 372, 411, 409, 4, 36, 24, 202, 12, 382, 253, 13, 67, 14, 335, 347, 141, 403, 22, 40, 70, 381, 91, 287, 328, 126, 371, 190, 73, 283, 393, 406, 195, 230, 354, 112, 334, 240, 401, 277, 310, 431, 425, 338, 413, 254, 358, 265, 384, 29, 129, 370, 377, 52, 285, 289, 124, 273, 436, 176, 239, 282, 259, 39, 258, 284, 28, 45, 171, 43, 205, 200, 46, 306, 301, 407, 266, 155, 304, 351, 77, 331, 437, 163, 201, 209, 349, 165, 49, 216, 312, 343, 145, 109, 56, 319, 92, 251, 211, 65, 103, 125, 196, 427, 435, 23, 71, 87, 181, 93, 325, 47, 61, 86, 85, 333], [183]]\n"
     ]
    }
   ],
   "source": [
    "def hierarchical_clustering_scratch(data, num_clusters):\n",
    "    # Standardize the data\n",
    "    scaler = StandardScaler()\n",
    "    scaled_data = scaler.fit_transform(data)\n",
    "    \n",
    "    # Calculate pairwise distances using Euclidean distance\n",
    "    distances = np.linalg.norm(scaled_data[:, np.newaxis] - scaled_data, axis=2)\n",
    "    \n",
    "    # Initialize each data point as a cluster\n",
    "    clusters = [[i] for i in range(len(data))]\n",
    "    \n",
    "    # Perform hierarchical clustering\n",
    "    while len(clusters) > num_clusters:\n",
    "        min_dist = np.inf\n",
    "        merge_indices = None\n",
    "        \n",
    "        for i in range(len(clusters)):\n",
    "            for j in range(i + 1, len(clusters)):\n",
    "                cluster_i = clusters[i]\n",
    "                cluster_j = clusters[j]\n",
    "                dist = np.mean(distances[np.ix_(cluster_i, cluster_j)])\n",
    "                \n",
    "                if dist < min_dist:\n",
    "                    min_dist = dist\n",
    "                    merge_indices = (i, j)\n",
    "        \n",
    "        i, j = merge_indices\n",
    "        clusters[i] += clusters[j]\n",
    "        del clusters[j]\n",
    "    \n",
    "    return clusters\n",
    "\n",
    "num_clusters = 2\n",
    "clusters_scratch = hierarchical_clustering_scratch(data, num_clusters)\n",
    "print(\"Clusters from scratch:\", clusters_scratch)\n"
   ]
  },
  {
   "cell_type": "code",
   "execution_count": 35,
   "metadata": {
    "execution": {
     "iopub.execute_input": "2023-08-23T05:03:46.554037Z",
     "iopub.status.busy": "2023-08-23T05:03:46.553655Z",
     "iopub.status.idle": "2023-08-23T05:03:46.840796Z",
     "shell.execute_reply": "2023-08-23T05:03:46.839909Z",
     "shell.execute_reply.started": "2023-08-23T05:03:46.553990Z"
    }
   },
   "outputs": [
    {
     "data": {
      "image/png": "[encoded data removed]",
      "text/plain": [
       "<Figure size 1000x700 with 1 Axes>"
      ]
     },
     "metadata": {},
     "output_type": "display_data"
    }
   ],
   "source": [
    "# Convert clusters to a flat list of cluster assignments for each data point\n",
    "cluster_assignments = np.zeros(len(data))\n",
    "for cluster_id, cluster in enumerate(clusters_scratch):\n",
    "    cluster_assignments[cluster] = cluster_id\n",
    "\n",
    "# Standardize the data\n",
    "scaler = StandardScaler()\n",
    "scaled_data = scaler.fit_transform(data)\n",
    "\n",
    "# Scatter plot\n",
    "plt.figure(figsize=(10, 7))\n",
    "plt.scatter(scaled_data[:, 0], scaled_data[:, 1], c=cluster_assignments, cmap='rainbow')\n",
    "plt.xlabel('Feature 1')\n",
    "plt.ylabel('Feature 2')\n",
    "plt.title('Hierarchical Clustering - Scatter Plot')\n",
    "plt.show()\n"
   ]
  },
  {
   "cell_type": "code",
   "execution_count": 30,
   "metadata": {
    "execution": {
     "iopub.execute_input": "2023-08-23T04:51:49.510088Z",
     "iopub.status.busy": "2023-08-23T04:51:49.509630Z",
     "iopub.status.idle": "2023-08-23T04:51:49.530408Z",
     "shell.execute_reply": "2023-08-23T04:51:49.529357Z",
     "shell.execute_reply.started": "2023-08-23T04:51:49.510052Z"
    }
   },
   "outputs": [
    {
     "name": "stdout",
     "output_type": "stream",
     "text": [
      "Clusters using sklearn: [0 0 0 0 0 0 0 0 0 0 0 0 0 0 0 0 0 0 0 0 0 0 0 0 0 0 0 0 0 0 0 0 0 0 0 0 0\n",
      " 0 0 0 0 0 0 0 0 0 0 1 0 0 0 0 0 0 0 0 0 0 0 0 0 1 0 0 0 0 0 0 0 0 0 0 0 0\n",
      " 0 0 0 0 0 0 0 0 0 0 0 1 1 0 0 0 0 0 0 0 0 0 0 0 0 0 0 0 0 0 0 0 0 0 0 0 0\n",
      " 0 0 0 0 0 0 0 0 0 0 0 0 0 0 0 0 0 0 0 0 0 0 0 0 0 0 0 0 0 0 0 0 0 0 0 0 0\n",
      " 0 0 0 0 0 0 0 0 0 0 0 0 0 0 0 0 0 0 0 0 0 0 0 0 0 0 0 0 0 0 0 0 0 0 0 1 0\n",
      " 0 0 0 0 0 0 0 0 0 0 0 0 0 0 0 0 0 0 0 0 0 0 0 0 0 0 0 0 0 0 0 0 0 0 0 0 0\n",
      " 0 0 0 0 0 0 0 0 0 0 0 0 0 0 0 0 0 0 0 0 0 0 0 0 0 0 0 0 0 0 0 0 0 0 0 0 0\n",
      " 0 0 0 0 0 0 0 0 0 0 0 0 0 0 0 0 0 0 0 0 0 0 0 0 0 0 0 0 0 0 0 0 0 0 0 0 0\n",
      " 0 0 0 0 0 0 0 0 0 0 0 0 0 0 0 0 0 0 0 0 0 0 0 0 0 0 0 0 0 0 0 0 0 0 0 0 0\n",
      " 1 0 0 0 0 0 0 0 0 0 0 0 0 0 0 0 0 0 0 0 0 0 0 0 0 0 0 0 0 0 0 0 0 0 0 0 0\n",
      " 0 0 0 0 0 0 0 0 0 0 0 0 0 0 0 0 0 0 0 0 0 0 0 0 0 0 0 0 0 0 0 0 0 0 0 0 0\n",
      " 0 0 0 0 0 0 0 0 0 0 0 0 0 0 0 0 0 0 0 0 0 0 0 0 0 0 0 0 0 0 0 0 0]\n"
     ]
    },
    {
     "name": "stderr",
     "output_type": "stream",
     "text": [
      "/opt/conda/lib/python3.10/site-packages/sklearn/cluster/_agglomerative.py:983: FutureWarning: Attribute `affinity` was deprecated in version 1.2 and will be removed in 1.4. Use `metric` instead\n",
      "  warnings.warn(\n"
     ]
    }
   ],
   "source": [
    "def hierarchical_clustering_sklearn(data, num_clusters):\n",
    "    scaler = StandardScaler()\n",
    "    scaled_data = scaler.fit_transform(data)\n",
    "    \n",
    "    model = AgglomerativeClustering(n_clusters=num_clusters, affinity='euclidean', linkage='ward')\n",
    "    clusters_sklearn = model.fit_predict(scaled_data)\n",
    "    \n",
    "    return clusters_sklearn\n",
    "\n",
    "clusters_sklearn = hierarchical_clustering_sklearn(data, num_clusters)\n",
    "print(\"Clusters using sklearn:\", clusters_sklearn)\n"
   ]
  },
  {
   "cell_type": "code",
   "execution_count": 36,
   "metadata": {
    "execution": {
     "iopub.execute_input": "2023-08-23T05:04:43.335825Z",
     "iopub.status.busy": "2023-08-23T05:04:43.335455Z",
     "iopub.status.idle": "2023-08-23T05:04:43.617918Z",
     "shell.execute_reply": "2023-08-23T05:04:43.616962Z",
     "shell.execute_reply.started": "2023-08-23T05:04:43.335795Z"
    }
   },
   "outputs": [
    {
     "data": {
      "image/png": "[encoded data removed]",
      "text/plain": [
       "<Figure size 1000x700 with 1 Axes>"
      ]
     },
     "metadata": {},
     "output_type": "display_data"
    }
   ],
   "source": [
    "# Parameters\n",
    "num_clusters = 2\n",
    "\n",
    "# Standardize the data\n",
    "scaler = StandardScaler()\n",
    "scaled_data = scaler.fit_transform(data)\n",
    "\n",
    "# Scatter plot\n",
    "plt.figure(figsize=(10, 7))\n",
    "plt.scatter(scaled_data[:, 0], scaled_data[:, 1], c=clusters_sklearn, cmap='rainbow')\n",
    "plt.xlabel('Feature 1')\n",
    "plt.ylabel('Feature 2')\n",
    "plt.title('Hierarchical Clustering (sklearn) - Scatter Plot')\n",
    "plt.show()"
   ]
  },
  {
   "cell_type": "code",
   "execution_count": 38,
   "metadata": {
    "execution": {
     "iopub.execute_input": "2023-08-23T05:08:26.420948Z",
     "iopub.status.busy": "2023-08-23T05:08:26.420575Z",
     "iopub.status.idle": "2023-08-23T05:08:26.919049Z",
     "shell.execute_reply": "2023-08-23T05:08:26.917955Z",
     "shell.execute_reply.started": "2023-08-23T05:08:26.420918Z"
    }
   },
   "outputs": [
    {
     "name": "stderr",
     "output_type": "stream",
     "text": [
      "/opt/conda/lib/python3.10/site-packages/sklearn/cluster/_agglomerative.py:983: FutureWarning: Attribute `affinity` was deprecated in version 1.2 and will be removed in 1.4. Use `metric` instead\n",
      "  warnings.warn(\n"
     ]
    },
    {
     "data": {
      "image/png": "[encoded data removed]",
      "text/plain": [
       "<Figure size 1000x700 with 1 Axes>"
      ]
     },
     "metadata": {},
     "output_type": "display_data"
    }
   ],
   "source": [
    "# Parameters\n",
    "num_clusters = 2\n",
    "\n",
    "# Perform hierarchical clustering using sklearn\n",
    "clusters_sklearn = hierarchical_clustering_sklearn(data.iloc[:20], num_clusters)\n",
    "\n",
    "# Create a dendrogram\n",
    "def plot_dendrogram(data, clusters):\n",
    "    scaler = StandardScaler()\n",
    "    scaled_data = scaler.fit_transform(data)\n",
    "    \n",
    "    linkage_matrix = sch.linkage(scaled_data, method='ward')\n",
    "    \n",
    "    plt.figure(figsize=(10, 7))\n",
    "    dendrogram = sch.dendrogram(linkage_matrix, labels=clusters, leaf_font_size=10, orientation='top')\n",
    "    plt.title('Dendrogram')\n",
    "    plt.xlabel('Data Points')\n",
    "    plt.ylabel('Distance')\n",
    "    plt.show()\n",
    "\n",
    "plot_dendrogram(data.iloc[:20], clusters_sklearn)"
   ]
  },
  {
   "cell_type": "code",
   "execution_count": null,
   "metadata": {},
   "outputs": [],
   "source": []
  }
 ],
 "metadata": {
  "kernelspec": {
   "display_name": "Python 3 (ipykernel)",
   "language": "python",
   "name": "python3"
  },
  "language_info": {
   "codemirror_mode": {
    "name": "ipython",
    "version": 3
   },
   "file_extension": ".py",
   "mimetype": "text/x-python",
   "name": "python",
   "nbconvert_exporter": "python",
   "pygments_lexer": "ipython3",
   "version": "3.10.9"
  }
 },
 "nbformat": 4,
 "nbformat_minor": 4
}
